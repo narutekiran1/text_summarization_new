{
 "cells": [
  {
   "cell_type": "code",
   "execution_count": 42,
   "metadata": {},
   "outputs": [],
   "source": [
    "import spacy\n",
    "nlp = spacy.load(\"en_core_web_sm\")"
   ]
  },
  {
   "cell_type": "code",
   "execution_count": 43,
   "metadata": {},
   "outputs": [],
   "source": [
    "f = open(\"news.txt\", \"r\",encoding=\"utf8\") \n",
    "text=f.read()"
   ]
  },
  {
   "cell_type": "code",
   "execution_count": 44,
   "metadata": {},
   "outputs": [],
   "source": [
    "#text = \"Compatibility of systems of linear constraints over the set of natural numbers. Criteria of compatibility of a system of linear Diophantine equations, strict inequations, and nonstrict inequations are considered. Upper bounds for components of a minimal set of solutions and algorithms of construction of minimal generating sets of solutions for all types of systems are given. These criteria and the corresponding algorithms for constructing a minimal supporting set of solutions can be used in solving all the considered types systems and systems of mixed types.\"\n",
    "#text=\"Those Who Are Resilient Stay In The Game Longer On the mountains of truth you can never climb in vain: either you will reach a point higher up today, or you will be training your powers so that you will be able to climb higher tomorrow. — Friedrich NietzscheChallenges and setbacks are not meant to defeat you, but promote you. However, I realise after many years of defeats, it can crush your spirit and it is easier to give up than risk further setbacks and disappointments. Have you experienced this before? To be honest, I don’t have the answers. I can’t tell you what the right course of action is; only you will know. However, it’s important not to be discouraged by failure when pursuing a goal or a dream, since failure itself means different things to different people. To a person with a Fixed Mindset failure is a blow to their self-esteem, yet to a person with a Growth Mindset, it’s an opportunity to improve and find new ways to overcome their obstacles. Same failure, yet different responses. Who is right and who is wrong? Neither. Each person has a different mindset that decides their outcome. Those who are resilient stay in the game longer and draw on their inner means to succeed\"\n",
    "nlp = spacy.load(\"en_core_web_sm\")"
   ]
  },
  {
   "cell_type": "code",
   "execution_count": 45,
   "metadata": {},
   "outputs": [],
   "source": [
    "\n",
    "import pytextrank\n",
    "\n",
    "tr = pytextrank.TextRank()\n",
    "nlp.add_pipe(tr.PipelineComponent, name=\"textrank\", last=True)\n",
    "\n",
    "doc = nlp(text)"
   ]
  },
  {
   "cell_type": "code",
   "execution_count": 46,
   "metadata": {},
   "outputs": [
    {
     "name": "stdout",
     "output_type": "stream",
     "text": [
      "0.2216     1  shielded twisted pair\n",
      "[shielded twisted pair]\n",
      "0.1451     2  pair.the unshielded twisted pair\n",
      "[pair.the Unshielded twisted pair, security.the Unshielded twisted pair]\n",
      "0.1412     1  the unshielded twisted pair cable\n",
      "[The Unshielded twisted pair cable]\n",
      "0.1401     1  less data\n",
      "[less data]\n",
      "0.1360     1  a unshielded twisted pair\n",
      "[a Unshielded twisted pair]\n",
      "0.1356     1  less cost\n",
      "[less cost]\n",
      "0.1326     1  eia.the unshielded twisted pair\n",
      "[EIA.the Unshielded twisted pair]\n",
      "0.1183     1  low datarate\n",
      "[low datarate]\n",
      "0.1079     1  present.it\n",
      "[present.it]\n",
      "0.1067     1  unshielded\n",
      "[Unshielded]\n",
      "0.0719     1  no metallic shield\n",
      "[no metallic shield]\n",
      "0.0658     1  10mbps\n",
      "[10Mbps]\n"
     ]
    }
   ],
   "source": [
    "\n",
    "for p in doc._.phrases:\n",
    "    print(\"{:.4f} {:5d}  {}\".format(p.rank, p.count, p.text))\n",
    "    print(p.chunks)"
   ]
  },
  {
   "cell_type": "code",
   "execution_count": 47,
   "metadata": {},
   "outputs": [
    {
     "data": {
      "text/plain": [
       "[[0, 18, set()], [18, 29, set()], [29, 57, set()]]"
      ]
     },
     "execution_count": 47,
     "metadata": {},
     "output_type": "execute_result"
    }
   ],
   "source": [
    "sent_bounds = [ [s.start, s.end, set([])] for s in doc.sents ]\n",
    "sent_bounds"
   ]
  },
  {
   "cell_type": "code",
   "execution_count": 48,
   "metadata": {},
   "outputs": [
    {
     "name": "stdout",
     "output_type": "stream",
     "text": [
      "0 shielded twisted pair 0.22162577144974907\n",
      "  54 57\n",
      "  29 54 57 57\n",
      "1 pair.the unshielded twisted pair 0.14511410206251552\n",
      "  18 22\n",
      "  0 18 22 18\n",
      "  37 41\n",
      "  29 37 41 57\n",
      "2 the unshielded twisted pair cable 0.14122834046313237\n",
      "  29 34\n",
      "  18 29 34 29\n",
      "3 less data 0.14007108490782016\n",
      "  35 37\n",
      "  29 35 37 57\n"
     ]
    }
   ],
   "source": [
    "limit_phrases = 4\n",
    "\n",
    "phrase_id = 0\n",
    "unit_vector = []\n",
    "\n",
    "for p in doc._.phrases:\n",
    "    print(phrase_id, p.text, p.rank)\n",
    "    \n",
    "    unit_vector.append(p.rank)\n",
    "    \n",
    "    for chunk in p.chunks:\n",
    "        print(\" \", chunk.start, chunk.end)\n",
    "        \n",
    "        for sent_start, sent_end, sent_vector in sent_bounds:\n",
    "            if chunk.start >= sent_start and chunk.start <= sent_end:\n",
    "                print(\" \", sent_start, chunk.start, chunk.end, sent_end)\n",
    "                sent_vector.add(phrase_id)\n",
    "                break\n",
    "\n",
    "    phrase_id += 1\n",
    "\n",
    "    if phrase_id == limit_phrases:\n",
    "        break"
   ]
  },
  {
   "cell_type": "code",
   "execution_count": 49,
   "metadata": {},
   "outputs": [
    {
     "data": {
      "text/plain": [
       "[[0, 18, {1}], [18, 29, {2}], [29, 57, {0, 1, 3}]]"
      ]
     },
     "execution_count": 49,
     "metadata": {},
     "output_type": "execute_result"
    }
   ],
   "source": [
    "sent_bounds"
   ]
  },
  {
   "cell_type": "code",
   "execution_count": 50,
   "metadata": {},
   "outputs": [
    {
     "name": "stdout",
     "output_type": "stream",
     "text": [
      "In a Unshielded twisted pair there is no metallic shield is present.it is less reliable than shielded twisted\n",
      "pair.the Unshielded twisted pair has low datarate near about 10Mbps\n",
      "\n",
      "The Unshielded twisted pair cable has less data security.the Unshielded twisted pair was invented by EIA.the Unshielded twisted pair has less cost as compare to shielded twisted pair\n"
     ]
    }
   ],
   "source": [
    "\n",
    "for sent in doc.sents:\n",
    "    print(sent)"
   ]
  },
  {
   "cell_type": "code",
   "execution_count": 51,
   "metadata": {},
   "outputs": [
    {
     "data": {
      "text/plain": [
       "[0.22162577144974907,\n",
       " 0.14511410206251552,\n",
       " 0.14122834046313237,\n",
       " 0.14007108490782016]"
      ]
     },
     "execution_count": 51,
     "metadata": {},
     "output_type": "execute_result"
    }
   ],
   "source": [
    "unit_vector"
   ]
  },
  {
   "cell_type": "code",
   "execution_count": 52,
   "metadata": {},
   "outputs": [
    {
     "data": {
      "text/plain": [
       "[0.34199433866384726,\n",
       " 0.2239279350999151,\n",
       " 0.21793175306885681,\n",
       " 0.21614597316738088]"
      ]
     },
     "execution_count": 52,
     "metadata": {},
     "output_type": "execute_result"
    }
   ],
   "source": [
    "sum_ranks = sum(unit_vector)\n",
    "unit_vector = [ rank/sum_ranks for rank in unit_vector ]\n",
    "\n",
    "unit_vector"
   ]
  },
  {
   "cell_type": "code",
   "execution_count": 53,
   "metadata": {},
   "outputs": [
    {
     "name": "stdout",
     "output_type": "stream",
     "text": [
      "{1}\n",
      "0 0.34199433866384726\n",
      "1 0.2239279350999151\n",
      "2 0.21793175306885681\n",
      "3 0.21614597316738088\n",
      "{2}\n",
      "0 0.34199433866384726\n",
      "1 0.2239279350999151\n",
      "2 0.21793175306885681\n",
      "3 0.21614597316738088\n",
      "{0, 1, 3}\n",
      "0 0.34199433866384726\n",
      "1 0.2239279350999151\n",
      "2 0.21793175306885681\n",
      "3 0.21614597316738088\n",
      "{0: 0.4595361339331887, 1: 0.46240991502422196, 2: 0.21793175306885681}\n"
     ]
    }
   ],
   "source": [
    "from math import sqrt\n",
    "\n",
    "sent_rank = {}\n",
    "sent_id = 0\n",
    "\n",
    "for sent_start, sent_end, sent_vector in sent_bounds:\n",
    "    print(sent_vector)\n",
    "    sum_sq = 0.0\n",
    "    \n",
    "    for phrase_id in range(len(unit_vector)):\n",
    "        print(phrase_id, unit_vector[phrase_id])\n",
    "        \n",
    "        if phrase_id not in sent_vector:\n",
    "            sum_sq += unit_vector[phrase_id]**2.0\n",
    "\n",
    "    sent_rank[sent_id] = sqrt(sum_sq)\n",
    "    sent_id += 1\n",
    "\n",
    "print(sent_rank)"
   ]
  },
  {
   "cell_type": "code",
   "execution_count": 54,
   "metadata": {},
   "outputs": [
    {
     "data": {
      "text/plain": [
       "[(2, 0.21793175306885681), (0, 0.4595361339331887), (1, 0.46240991502422196)]"
      ]
     },
     "execution_count": 54,
     "metadata": {},
     "output_type": "execute_result"
    }
   ],
   "source": [
    "from operator import itemgetter\n",
    "\n",
    "sorted(sent_rank.items(), key=itemgetter(1))"
   ]
  },
  {
   "cell_type": "code",
   "execution_count": 55,
   "metadata": {
    "scrolled": true
   },
   "outputs": [
    {
     "name": "stdout",
     "output_type": "stream",
     "text": [
      "2 The Unshielded twisted pair cable has less data security.the Unshielded twisted pair was invented by EIA.the Unshielded twisted pair has less cost as compare to shielded twisted pair\n",
      "0 In a Unshielded twisted pair there is no metallic shield is present.it is less reliable than shielded twisted\n"
     ]
    }
   ],
   "source": [
    "limit_sentences = 2\n",
    "\n",
    "sent_text = {}\n",
    "sent_id = 0\n",
    "\n",
    "for sent in doc.sents:\n",
    "    sent_text[sent_id] = sent.text\n",
    "    sent_id += 1\n",
    "\n",
    "num_sent = 0\n",
    "\n",
    "for sent_id, rank in sorted(sent_rank.items(), key=itemgetter(1)):\n",
    "    print(sent_id, sent_text[sent_id])\n",
    "    num_sent += 1\n",
    "    \n",
    "    if num_sent == limit_sentences:\n",
    "        break"
   ]
  },
  {
   "cell_type": "code",
   "execution_count": null,
   "metadata": {},
   "outputs": [],
   "source": []
  },
  {
   "cell_type": "code",
   "execution_count": null,
   "metadata": {},
   "outputs": [],
   "source": []
  },
  {
   "cell_type": "code",
   "execution_count": null,
   "metadata": {},
   "outputs": [],
   "source": []
  },
  {
   "cell_type": "code",
   "execution_count": null,
   "metadata": {},
   "outputs": [],
   "source": []
  }
 ],
 "metadata": {
  "kernelspec": {
   "display_name": "Python 3",
   "language": "python",
   "name": "python3"
  },
  "language_info": {
   "codemirror_mode": {
    "name": "ipython",
    "version": 3
   },
   "file_extension": ".py",
   "mimetype": "text/x-python",
   "name": "python",
   "nbconvert_exporter": "python",
   "pygments_lexer": "ipython3",
   "version": "3.7.6"
  }
 },
 "nbformat": 4,
 "nbformat_minor": 4
}
